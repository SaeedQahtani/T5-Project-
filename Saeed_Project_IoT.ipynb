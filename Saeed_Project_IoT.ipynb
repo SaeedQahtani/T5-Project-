{
 "cells": [
  {
   "cell_type": "markdown",
   "metadata": {},
   "source": [
    "\n",
    "#                                Botnet Detection in IoT Environment\n",
    "\n",
    "\n",
    "\n",
    "\n",
    "# Abstract\n",
    "\n",
    "The goal of this project is to use classification models for botnet detection in IoT environment in order to improve the IoT network security. In addtion, leveraging categorical feature engineering along with a supervised learning algorithms, logistic Regression, Decision Tree and Random Forest to achieve promising results for this problem. \n",
    "\n",
    "BoT-IoT dataset is going to be used in this project. The BoT-IoT dataset was created by designing a realistic network environment in the Cyber Range Lab of UNSW Canberra. The network environment incorporated a combination of normal and botnet traffic. Further information can be found at https://research.unsw.edu.au/projects/bot-iot-dataset \n",
    "\n",
    "Such this model can be integrated with current IoT network detection solutions in order to improve their accuracy to mitigate the threats."
   ]
  },
  {
   "cell_type": "markdown",
   "metadata": {},
   "source": [
    "# Design\n",
    "\n",
    "As such a project and precisely botnet detection in IoT environment, it requires a dataset containing enough information about IoT traces. BoT-IoT dataset was created in the lab of UNSW Canberra cyber center. This dataset collaborates the normal and botnet traffic with labels. The researcher creates many virtual machines on an internal network to simulate different malicious attacks with the intention to capture normal and malicious traffic as shown in the figure below.\n",
    "\n",
    "<img src=\"Design.PNG\" alt=\"Drawing\" style=\"width: 500px;\"/>\n",
    "\n"
   ]
  },
  {
   "cell_type": "markdown",
   "metadata": {},
   "source": [
    "# Data\n",
    "More than 72 million records were captured to create BoT-IoT dataset. The dataset includes traffic from different malicious attacks. The major contrast in this dataset is that it contains more than 99% of botnet traffic while less than 1% normal traffic. In spite of that, 12,000 records were taken as balanced sample of the data to do the experiments and build the model. In this study, 14 features were selected.\n",
    "\n",
    "### Selected features:\n",
    "\n",
    "| Feature| Description|\n",
    "| --- | --- |\n",
    "| dur | Record total duration |\n",
    "| spkts | Source-to-destination packet count |\n",
    "| dpkts | Destination-to-source packet count |\n",
    "| Sbytes | Source-to-destination byte count |\n",
    "| Dbytes | Destination-to-source byte count |\n",
    "| rate | Total packets per second in transaction |\n",
    "| sttl | Source to destination time to live value |\n",
    "| dttl | Destination to source time to live value |\n",
    "| sload | Source bits per second |\n",
    "| dload | Destination bits per second |\n",
    "| sinpkt | Source interpacket arrival time (mSec) |\n",
    "| dinpkt | Destination interpacket arrival time (mSec) |\n",
    "| sjit | Source jitter (mSec) |\n",
    "| djit | Destination jitter (mSec) |\n",
    "| label | Class label: 0 for Normal traffic, 1 for Attack Traffic |\n",
    "\n"
   ]
  },
  {
   "cell_type": "markdown",
   "metadata": {},
   "source": [
    "# Models\n",
    "\n",
    "In this project, I will implement a three machine learning methods:\n",
    "\n",
    "- Logistic Regression\n",
    "- Decision Trees\n",
    "- Random Forest\n",
    "\n",
    "Feature importance ranking will be considered in this project."
   ]
  },
  {
   "cell_type": "markdown",
   "metadata": {},
   "source": [
    "# Model Evaluation and Selection\n",
    "\n",
    "## Step 1: Importing Libraries\n",
    "\n",
    "In this project, I will used many important libraries such as the following:"
   ]
  },
  {
   "cell_type": "code",
   "execution_count": 2,
   "metadata": {},
   "outputs": [],
   "source": [
    "import pandas as pd\n",
    "import numpy as np\n",
    "import seaborn as sns\n",
    "import sklearn\n",
    "from matplotlib import pyplot"
   ]
  },
  {
   "cell_type": "markdown",
   "metadata": {},
   "source": [
    "## Step 2: Importing the dataset\n",
    "\n",
    "After importing needed Libraries, I will import the dataset using the following:"
   ]
  },
  {
   "cell_type": "code",
   "execution_count": 3,
   "metadata": {},
   "outputs": [],
   "source": [
    "Traffic_Data = pd.read_csv('Dataset/IoT-Bot.csv')"
   ]
  },
  {
   "cell_type": "markdown",
   "metadata": {},
   "source": [
    "## Step 3: Feature Engineering\n",
    "\n",
    "Then, I will do some feature engineering processes:\n",
    "\n",
    "1- to check and clean the data.\n",
    "\n",
    "2- Drop features that consist of frequent missing or unuseful data such as time and source/destination address...etc.\n",
    "\n",
    "3- Converting categorical features to binary dummy variables as needed.\n",
    "\n"
   ]
  },
  {
   "cell_type": "markdown",
   "metadata": {},
   "source": [
    "## Step 4 : Split Data into Train & Test Data\n",
    "\n",
    "At this stage, I will do splitting the data into two datasets (Training & Testing Datasets).\n",
    "\n",
    "Example: X_train, X_test, y_train, y_test =  train_test_split(X,y, test_size= ...)"
   ]
  },
  {
   "cell_type": "markdown",
   "metadata": {},
   "source": [
    "# Train ML Models\n",
    "\n",
    "I will train three different models with datasets mentioned earlier and do some measurements such as (accuracy, precision, recall and fscore) to see how efficient are these three models with the project's dataset.\n",
    " \n",
    "These three models are as following: \n",
    "\n",
    "### 1- Logistic Regression"
   ]
  },
  {
   "cell_type": "markdown",
   "metadata": {},
   "source": [
    "### 2- DecisionTree"
   ]
  },
  {
   "cell_type": "markdown",
   "metadata": {},
   "source": [
    "### 3- RandomFores"
   ]
  },
  {
   "cell_type": "markdown",
   "metadata": {},
   "source": [
    "# Tools\n",
    "\n",
    "- Numpy and Pandas for data manipulation\n",
    "- Scikit-learn for modeling\n",
    "- Matplotlib and Seaborn for plotting\n"
   ]
  }
 ],
 "metadata": {
  "kernelspec": {
   "display_name": "Python 3",
   "language": "python",
   "name": "python3"
  },
  "language_info": {
   "codemirror_mode": {
    "name": "ipython",
    "version": 3
   },
   "file_extension": ".py",
   "mimetype": "text/x-python",
   "name": "python",
   "nbconvert_exporter": "python",
   "pygments_lexer": "ipython3",
   "version": "3.8.8"
  }
 },
 "nbformat": 4,
 "nbformat_minor": 4
}
