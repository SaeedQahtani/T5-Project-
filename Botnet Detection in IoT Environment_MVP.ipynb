{
 "cells": [
  {
   "cell_type": "markdown",
   "metadata": {},
   "source": [
    "# Botnet Detection in IoT Environment\n",
    "\n",
    "\n",
    "\n",
    "\n",
    "\n",
    "# Abstract\n",
    "\n",
    "The goal of this project is to use classification models for botnet detection in IoT environment in order to improve the IoT network security. In addtion, leveraging categorical feature engineering along with a supervised learning algorithms, logistic Regression, Decision Tree and Random Forest to achieve promising results for this problem. \n",
    "\n",
    "BoT-IoT dataset is going to be used in this project. The BoT-IoT dataset was created by designing a realistic network environment in the Cyber Range Lab of UNSW Canberra. The network environment incorporated a combination of normal and botnet traffic. Further information can be found at https://research.unsw.edu.au/projects/bot-iot-dataset \n",
    "\n",
    "Such this model can be integrated with current IoT network detection solutions in order to improve their accuracy to mitigate the threats."
   ]
  },
  {
   "cell_type": "markdown",
   "metadata": {},
   "source": [
    "# Design\n",
    "\n",
    "As such a project and precisely botnet detection in IoT environment, it requires a dataset containing enough information about IoT traces. BoT-IoT dataset was created in the lab of UNSW Canberra cyber center. This dataset collaborates the normal and botnet traffic with labels. The researcher creates many virtual machines on an internal network to simulate different malicious attacks with the intention to capture normal and malicious traffic as shown in the figure below.\n",
    "\n",
    "<img src=\"images/Design.PNG\" alt=\"Drawing\" style=\"width: 600px;\"/>\n",
    "\n"
   ]
  },
  {
   "cell_type": "markdown",
   "metadata": {},
   "source": [
    "# Description of the Dataset\n",
    "More than 72 million records were captured to create BoT-IoT dataset. The dataset includes traffic from different malicious attacks. The major contrast in this dataset is that it contains more than 99% of botnet traffic while less than 1% normal traffic. In spite of that, 81789 records were taken as balanced sample of the whole data to do the experiments and build the models. In this study, 15 features were selected including the target.\n",
    "\n",
    "### Selected features:\n",
    "\n",
    "| Feature| Description|\n",
    "| --- | --- |\n",
    "| dur | Record total duration |\n",
    "| spkts | Source-to-destination packet count |\n",
    "| dpkts | Destination-to-source packet count |\n",
    "| Sbytes | Source-to-destination byte count |\n",
    "| Dbytes | Destination-to-source byte count |\n",
    "| rate | Total packets per second in transaction |\n",
    "| sttl | Source to destination time to live value |\n",
    "| dttl | Destination to source time to live value |\n",
    "| sload | Source bits per second |\n",
    "| dload | Destination bits per second |\n",
    "| sinpkt | Source interpacket arrival time (mSec) |\n",
    "| dinpkt | Destination interpacket arrival time (mSec) |\n",
    "| sjit | Source jitter (mSec) |\n",
    "| djit | Destination jitter (mSec) |\n",
    "| label | Class label: 0 for Normal traffic, 1 for Attack Traffic |\n",
    "\n"
   ]
  },
  {
   "cell_type": "markdown",
   "metadata": {},
   "source": [
    "# Model Selection and Evaluation \n",
    "\n",
    "##  A- Models Selection\n",
    "\n",
    "In this project, I will implement a three machine learning methods:\n",
    "\n",
    "- Logistic Regression\n",
    "- Decision Trees\n",
    "- Random Forest\n",
    "\n",
    "Feature importance ranking will be considered in this project.\n",
    "\n",
    "\n",
    "##  B- Models Evaluation\n",
    "\n",
    "I will evaluate these three models by calculating accuracy, precision, recall, and f1score after training and testing them as following:\n",
    "\n",
    "### Step 1: Importing Libraries\n",
    "\n",
    "In this project, I will used many important libraries such as:\n",
    "- Numpy and Pandas for data manipulation\n",
    "- Scikit-learn for modeling\n",
    "- Matplotlib and Seaborn for plotting"
   ]
  },
  {
   "cell_type": "code",
   "execution_count": 2,
   "metadata": {},
   "outputs": [],
   "source": [
    "import pandas as pd\n",
    "import numpy as np\n",
    "import seaborn as sns\n",
    "import sklearn\n",
    "import warnings; warnings.simplefilter('ignore')\n",
    "from sklearn.preprocessing import StandardScaler\n",
    "import matplotlib.pyplot as plt\n",
    "\n",
    "# sklearn classifiers\n",
    "from sklearn.linear_model import LogisticRegression\n",
    "from sklearn.tree import DecisionTreeClassifier\n",
    "from sklearn.ensemble import RandomForestClassifier\n",
    "from sklearn.model_selection import train_test_split\n",
    "from sklearn.metrics import accuracy_score\n",
    "from sklearn.metrics import precision_score\n",
    "from sklearn.metrics import recall_score\n",
    "from sklearn.metrics import f1_score\n",
    "from sklearn.metrics import classification_report\n",
    "from sklearn.metrics import confusion_matrix\n",
    "from matplotlib import pyplot\n"
   ]
  },
  {
   "cell_type": "markdown",
   "metadata": {},
   "source": [
    "### Step 2: Importing the dataset\n",
    "\n",
    "After importing needed Libraries, I will import the dataset using the following:"
   ]
  },
  {
   "cell_type": "code",
   "execution_count": 3,
   "metadata": {},
   "outputs": [],
   "source": [
    "Traffic_Data = pd.read_csv('Dataset/IoT-Bot.csv')"
   ]
  },
  {
   "cell_type": "markdown",
   "metadata": {},
   "source": [
    "### Step 3: Feature Engineering\n",
    "\n",
    "Then, I will do some feature engineering processes:\n",
    "\n",
    "1- Clean the data by dropping features that consist of frequent missing or unuseful data such as time and source/destination address...etc.\n",
    "\n",
    "2- Converting categorical features to binary dummy variables as needed.\n",
    "\n"
   ]
  },
  {
   "cell_type": "markdown",
   "metadata": {},
   "source": [
    "### Look at the first 5 rows"
   ]
  },
  {
   "cell_type": "code",
   "execution_count": 4,
   "metadata": {},
   "outputs": [
    {
     "data": {
      "text/plain": [
       "(81789, 15)"
      ]
     },
     "execution_count": 4,
     "metadata": {},
     "output_type": "execute_result"
    }
   ],
   "source": [
    "Traffic_Data.shape"
   ]
  },
  {
   "cell_type": "code",
   "execution_count": 5,
   "metadata": {},
   "outputs": [
    {
     "data": {
      "text/html": [
       "<div>\n",
       "<style scoped>\n",
       "    .dataframe tbody tr th:only-of-type {\n",
       "        vertical-align: middle;\n",
       "    }\n",
       "\n",
       "    .dataframe tbody tr th {\n",
       "        vertical-align: top;\n",
       "    }\n",
       "\n",
       "    .dataframe thead th {\n",
       "        text-align: right;\n",
       "    }\n",
       "</style>\n",
       "<table border=\"1\" class=\"dataframe\">\n",
       "  <thead>\n",
       "    <tr style=\"text-align: right;\">\n",
       "      <th></th>\n",
       "      <th>dur</th>\n",
       "      <th>spkts</th>\n",
       "      <th>dpkts</th>\n",
       "      <th>sbytes</th>\n",
       "      <th>dbytes</th>\n",
       "      <th>rate</th>\n",
       "      <th>sttl</th>\n",
       "      <th>dttl</th>\n",
       "      <th>sload</th>\n",
       "      <th>dload</th>\n",
       "      <th>sinpkt</th>\n",
       "      <th>dinpkt</th>\n",
       "      <th>sjit</th>\n",
       "      <th>djit</th>\n",
       "      <th>label</th>\n",
       "    </tr>\n",
       "  </thead>\n",
       "  <tbody>\n",
       "    <tr>\n",
       "      <th>0</th>\n",
       "      <td>0.121478</td>\n",
       "      <td>6</td>\n",
       "      <td>4</td>\n",
       "      <td>258</td>\n",
       "      <td>172</td>\n",
       "      <td>74.087490</td>\n",
       "      <td>252</td>\n",
       "      <td>254</td>\n",
       "      <td>14158.942380</td>\n",
       "      <td>8495.365234</td>\n",
       "      <td>24.295600</td>\n",
       "      <td>8.375000</td>\n",
       "      <td>30.177547</td>\n",
       "      <td>11.830604</td>\n",
       "      <td>0</td>\n",
       "    </tr>\n",
       "    <tr>\n",
       "      <th>1</th>\n",
       "      <td>0.649902</td>\n",
       "      <td>14</td>\n",
       "      <td>38</td>\n",
       "      <td>734</td>\n",
       "      <td>42014</td>\n",
       "      <td>78.473372</td>\n",
       "      <td>62</td>\n",
       "      <td>252</td>\n",
       "      <td>8395.112305</td>\n",
       "      <td>503571.312500</td>\n",
       "      <td>49.915000</td>\n",
       "      <td>15.432865</td>\n",
       "      <td>61.426934</td>\n",
       "      <td>1387.778330</td>\n",
       "      <td>0</td>\n",
       "    </tr>\n",
       "    <tr>\n",
       "      <th>2</th>\n",
       "      <td>1.623129</td>\n",
       "      <td>8</td>\n",
       "      <td>16</td>\n",
       "      <td>364</td>\n",
       "      <td>13186</td>\n",
       "      <td>14.170161</td>\n",
       "      <td>62</td>\n",
       "      <td>252</td>\n",
       "      <td>1572.271851</td>\n",
       "      <td>60929.230470</td>\n",
       "      <td>231.875571</td>\n",
       "      <td>102.737203</td>\n",
       "      <td>17179.586860</td>\n",
       "      <td>11420.926230</td>\n",
       "      <td>0</td>\n",
       "    </tr>\n",
       "    <tr>\n",
       "      <th>3</th>\n",
       "      <td>1.681642</td>\n",
       "      <td>12</td>\n",
       "      <td>12</td>\n",
       "      <td>628</td>\n",
       "      <td>770</td>\n",
       "      <td>13.677108</td>\n",
       "      <td>62</td>\n",
       "      <td>252</td>\n",
       "      <td>2740.178955</td>\n",
       "      <td>3358.622070</td>\n",
       "      <td>152.876547</td>\n",
       "      <td>90.235726</td>\n",
       "      <td>259.080172</td>\n",
       "      <td>4991.784669</td>\n",
       "      <td>0</td>\n",
       "    </tr>\n",
       "    <tr>\n",
       "      <th>4</th>\n",
       "      <td>0.449454</td>\n",
       "      <td>10</td>\n",
       "      <td>6</td>\n",
       "      <td>534</td>\n",
       "      <td>268</td>\n",
       "      <td>33.373826</td>\n",
       "      <td>254</td>\n",
       "      <td>252</td>\n",
       "      <td>8561.499023</td>\n",
       "      <td>3987.059814</td>\n",
       "      <td>47.750333</td>\n",
       "      <td>75.659602</td>\n",
       "      <td>2415.837634</td>\n",
       "      <td>115.807000</td>\n",
       "      <td>0</td>\n",
       "    </tr>\n",
       "  </tbody>\n",
       "</table>\n",
       "</div>"
      ],
      "text/plain": [
       "        dur  spkts  dpkts  sbytes  dbytes       rate  sttl  dttl  \\\n",
       "0  0.121478      6      4     258     172  74.087490   252   254   \n",
       "1  0.649902     14     38     734   42014  78.473372    62   252   \n",
       "2  1.623129      8     16     364   13186  14.170161    62   252   \n",
       "3  1.681642     12     12     628     770  13.677108    62   252   \n",
       "4  0.449454     10      6     534     268  33.373826   254   252   \n",
       "\n",
       "          sload          dload      sinpkt      dinpkt          sjit  \\\n",
       "0  14158.942380    8495.365234   24.295600    8.375000     30.177547   \n",
       "1   8395.112305  503571.312500   49.915000   15.432865     61.426934   \n",
       "2   1572.271851   60929.230470  231.875571  102.737203  17179.586860   \n",
       "3   2740.178955    3358.622070  152.876547   90.235726    259.080172   \n",
       "4   8561.499023    3987.059814   47.750333   75.659602   2415.837634   \n",
       "\n",
       "           djit  label  \n",
       "0     11.830604      0  \n",
       "1   1387.778330      0  \n",
       "2  11420.926230      0  \n",
       "3   4991.784669      0  \n",
       "4    115.807000      0  "
      ]
     },
     "execution_count": 5,
     "metadata": {},
     "output_type": "execute_result"
    }
   ],
   "source": [
    "Traffic_Data.head(n=5)"
   ]
  },
  {
   "cell_type": "markdown",
   "metadata": {},
   "source": [
    "### Check if there are Null values\n"
   ]
  },
  {
   "cell_type": "code",
   "execution_count": 6,
   "metadata": {},
   "outputs": [
    {
     "data": {
      "text/plain": [
       "dur       0\n",
       "spkts     0\n",
       "dpkts     0\n",
       "sbytes    0\n",
       "dbytes    0\n",
       "rate      0\n",
       "sttl      0\n",
       "dttl      0\n",
       "sload     0\n",
       "dload     0\n",
       "sinpkt    0\n",
       "dinpkt    0\n",
       "sjit      0\n",
       "djit      0\n",
       "label     0\n",
       "dtype: int64"
      ]
     },
     "execution_count": 6,
     "metadata": {},
     "output_type": "execute_result"
    }
   ],
   "source": [
    "Traffic_Data.isnull().sum()"
   ]
  },
  {
   "cell_type": "markdown",
   "metadata": {},
   "source": [
    "### Step 4 : Split Data into Train & Test Data\n",
    "\n",
    "At this stage, I will do splitting the data into two datasets (Training & Testing Datasets).\n",
    "\n",
    "Example: X_train, X_test, y_train, y_test =  train_test_split(X,y, test_size= ...)"
   ]
  },
  {
   "cell_type": "markdown",
   "metadata": {},
   "source": [
    "### Insert X and y values"
   ]
  },
  {
   "cell_type": "code",
   "execution_count": 7,
   "metadata": {},
   "outputs": [],
   "source": [
    "X = Traffic_Data[['dur','spkts', 'dpkts', 'sbytes', 'dbytes', 'rate', 'sttl', 'dttl', 'sload', 'dload', 'sinpkt', 'dinpkt', 'sjit', 'djit']]\n",
    "y = Traffic_Data['label']"
   ]
  },
  {
   "cell_type": "markdown",
   "metadata": {},
   "source": [
    "### Split training and testing data\n",
    "It is important to split `X` and `y` as training set and testing set. Here, we will split the original data as 80% training set and 20% testing set."
   ]
  },
  {
   "cell_type": "code",
   "execution_count": 8,
   "metadata": {},
   "outputs": [],
   "source": [
    "X_train, X_test, y_train, y_test =  train_test_split(X,y, test_size=0.2)"
   ]
  },
  {
   "cell_type": "markdown",
   "metadata": {},
   "source": [
    "# Train ML Models\n",
    "\n",
    "I will train three different models with datasets mentioned earlier and do some measurements such as (accuracy, precision, recall and fscore) to see how efficient are these three models with the project's dataset.\n",
    "\n",
    "These three models are as following:\n",
    "\n",
    "## Model 1: Logistic Regression"
   ]
  },
  {
   "cell_type": "code",
   "execution_count": 9,
   "metadata": {},
   "outputs": [
    {
     "name": "stdout",
     "output_type": "stream",
     "text": [
      "accuracy: 0.8493703386722093\n",
      "precision: 0.7758785332314744\n",
      "recall: 0.9858044164037855\n",
      "fscore: 0.8683338676926365\n"
     ]
    }
   ],
   "source": [
    "model = LogisticRegression()\n",
    "model.fit(X_train,y_train)\n",
    "predictions = model.predict(X_test)\n",
    "accuracy = accuracy_score(y_test, predictions)\n",
    "precision = precision_score(y_test, predictions)\n",
    "recall = recall_score(y_test, predictions)\n",
    "f1 = f1_score(y_test, predictions)\n",
    "\n",
    "print('accuracy: {}'.format(accuracy))\n",
    "print('precision: {}'.format(precision))\n",
    "print('recall: {}'.format(recall))\n",
    "print('fscore: {}'.format(f1))"
   ]
  },
  {
   "cell_type": "markdown",
   "metadata": {},
   "source": [
    "## Model 2: DecisionTree"
   ]
  },
  {
   "cell_type": "code",
   "execution_count": 8,
   "metadata": {},
   "outputs": [
    {
     "name": "stdout",
     "output_type": "stream",
     "text": [
      "[2.26484775e-02 6.31940650e-03 3.16067076e-03 7.16842376e-02\n",
      " 8.84201039e-02 1.80693415e-02 6.14109431e-01 5.85703360e-05\n",
      " 2.00353500e-02 2.50723407e-02 2.65178489e-02 3.01847084e-02\n",
      " 3.80266833e-02 3.56928295e-02]\n"
     ]
    },
    {
     "data": {
      "image/png": "[encoded data removed]",
      "text/plain": [
       "<Figure size 432x288 with 1 Axes>"
      ]
     },
     "metadata": {
      "needs_background": "light"
     },
     "output_type": "display_data"
    },
    {
     "name": "stdout",
     "output_type": "stream",
     "text": [
      "accuracy: 0.9018217385988507\n",
      "precision: 0.9031314731326916\n",
      "recall: 0.9013741943329685\n",
      "fscore: 0.9022519780888618\n"
     ]
    }
   ],
   "source": [
    "model = DecisionTreeClassifier()\n",
    "model.fit(X_train,y_train)\n",
    "predictions = model.predict(X_test)\n",
    "print(model.feature_importances_)\n",
    "pyplot.bar(range(len(model.feature_importances_)), model.feature_importances_)\n",
    "pyplot.show()\n",
    "\n",
    "accuracy = accuracy_score(y_test, predictions)\n",
    "precision = precision_score(y_test, predictions)\n",
    "recall = recall_score(y_test, predictions)\n",
    "f1 = f1_score(y_test, predictions)\n",
    "\n",
    "print('accuracy: {}'.format(accuracy))\n",
    "print('precision: {}'.format(precision))\n",
    "print('recall: {}'.format(recall))\n",
    "print('fscore: {}'.format(f1))\n"
   ]
  },
  {
   "cell_type": "markdown",
   "metadata": {},
   "source": [
    "## Model 3: RandomForest"
   ]
  },
  {
   "cell_type": "code",
   "execution_count": 9,
   "metadata": {},
   "outputs": [
    {
     "name": "stdout",
     "output_type": "stream",
     "text": [
      "[0.05593426 0.01528982 0.01321226 0.0653394  0.04236491 0.08382209\n",
      " 0.20251238 0.15789597 0.04370057 0.05160221 0.04825457 0.09609836\n",
      " 0.08181644 0.04215678]\n"
     ]
    },
    {
     "data": {
      "image/png": "[encoded data removed]",
      "text/plain": [
       "<Figure size 432x288 with 1 Axes>"
      ]
     },
     "metadata": {
      "needs_background": "light"
     },
     "output_type": "display_data"
    },
    {
     "name": "stdout",
     "output_type": "stream",
     "text": [
      "accuracy: 0.9160044015160778\n",
      "precision: 0.8953018584785871\n",
      "recall: 0.9432080749118327\n",
      "fscore: 0.9186308184294683\n"
     ]
    }
   ],
   "source": [
    "model = RandomForestClassifier()\n",
    "model.fit(X_train,y_train)\n",
    "predictions = model.predict(X_test)\n",
    "print(model.feature_importances_)\n",
    "pyplot.bar(range(len(model.feature_importances_)), model.feature_importances_)\n",
    "pyplot.show()\n",
    "\n",
    "accuracy = accuracy_score(y_test, predictions)\n",
    "precision = precision_score(y_test, predictions)\n",
    "recall = recall_score(y_test, predictions)\n",
    "f1 = f1_score(y_test, predictions)\n",
    "\n",
    "print('accuracy: {}'.format(accuracy))\n",
    "print('precision: {}'.format(precision))\n",
    "print('recall: {}'.format(recall))\n",
    "print('fscore: {}'.format(f1))\n"
   ]
  },
  {
   "cell_type": "markdown",
   "metadata": {},
   "source": [
    "# Conclusion\n",
    "\n",
    "From our experiments, we concluded that both the DecisionTree and RandomForest are the most accurate algorithms for predicting the Botnet type of traffic.\n",
    "\n",
    "Nonetheless, the DecisionTree puts high weight only on one feature which is (sttl) for its prediction compared to the RandomForest which considers most of the selected features . Therefore, I will select the RandomForest algorithm to be the most accurate one among all."
   ]
  }
 ],
 "metadata": {
  "kernelspec": {
   "display_name": "Python 3",
   "language": "python",
   "name": "python3"
  },
  "language_info": {
   "codemirror_mode": {
    "name": "ipython",
    "version": 3
   },
   "file_extension": ".py",
   "mimetype": "text/x-python",
   "name": "python",
   "nbconvert_exporter": "python",
   "pygments_lexer": "ipython3",
   "version": "3.8.8"
  }
 },
 "nbformat": 4,
 "nbformat_minor": 4
}
